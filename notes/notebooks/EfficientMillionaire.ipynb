{
 "cells": [
  {
   "cell_type": "markdown",
   "id": "2f260178-9105-411d-971f-3de6907cc92e",
   "metadata": {},
   "source": [
    "## Efficient Solutions to Two-Party and Multiparty Millionaires’ Problem\n",
    "\n",
    "See if we can implement the 2-party ZK comparison protocol outlined in [this paper](https://www.hindawi.com/journals/scn/2017/5207386/)\n",
    "and perhaps explain what it's doing in simple terms."
   ]
  },
  {
   "cell_type": "markdown",
   "id": "760e28bf-01b3-48b0-8667-79957e1546d5",
   "metadata": {},
   "source": [
    "### First we need a Paillier cryptosystem:\n",
    "[Here](./BasicPaillier.ipynb) is a notebook containing one."
   ]
  },
  {
   "cell_type": "code",
   "execution_count": 1,
   "id": "767ee150-dd66-4230-ac3d-42e6f3d890c6",
   "metadata": {},
   "outputs": [
    {
     "name": "stdout",
     "output_type": "stream",
     "text": [
      "BacisPaillier notebook loaded\n"
     ]
    }
   ],
   "source": [
    "%run ./BasicPaillier.ipynb"
   ]
  },
  {
   "cell_type": "code",
   "execution_count": 2,
   "id": "7099631b-2c1d-4def-bf0e-b2febf2a7513",
   "metadata": {},
   "outputs": [],
   "source": [
    "# Note: \"Crypto\" here is pycryptodome\n",
    "from Crypto import Random\n",
    "from Crypto.Random import random\n",
    "from Crypto.Util import number\n",
    "import math"
   ]
  },
  {
   "cell_type": "code",
   "execution_count": null,
   "id": "af240181-8a86-4a74-91fa-1f4be74da882",
   "metadata": {},
   "outputs": [],
   "source": []
  },
  {
   "cell_type": "markdown",
   "id": "8dbabff3-c597-4479-b9f9-9e4e3bed8221",
   "metadata": {},
   "source": [
    "## Code for the Millionaires' Problem paper"
   ]
  },
  {
   "cell_type": "code",
   "execution_count": 3,
   "id": "3726e8dd-df18-420f-b453-9e7f14e98bdc",
   "metadata": {
    "tags": []
   },
   "outputs": [],
   "source": [
    "\n",
    "def Vectorize(U, agb, x):\n",
    "    '''\n",
    "    Section 2.5: vectorize the value k, which is a member of public vector U, into a new vector V\n",
    "    This follows notation in (eq 13)\n",
    "    ''' \n",
    "    (alpha, gamma, beta) = agb\n",
    "    return [ alpha if u < x else beta if u > x else gamma  for u in U ]\n"
   ]
  },
  {
   "cell_type": "code",
   "execution_count": 4,
   "id": "437cb9a7-65ab-4bfb-bec0-67c35a7210d9",
   "metadata": {},
   "outputs": [],
   "source": [
    "\n",
    "\n",
    "def PiecesDict(names, valBits):\n",
    "    '''\n",
    "    Create a dictionary of (pieceName, value) pairs where values are in the same rank-order as \n",
    "    the named pieces' ranks\n",
    "    '''\n",
    "    vals = [ getRandomBitsOfLength(valBits) for i in range(len(names)) ]\n",
    "    vals.sort()\n",
    "    d = { n: v for (n,v) in zip(names,vals) }\n",
    "    return d\n",
    "          "
   ]
  },
  {
   "cell_type": "code",
   "execution_count": 5,
   "id": "a7e1822c-bff8-4127-bcbe-db1452feefe3",
   "metadata": {},
   "outputs": [],
   "source": [
    "# Setup\n",
    "\n",
    "# stratego pieces in increasing rank\n",
    "PieceNames = [\"Spy\",\"Scout\",\"Miner\",\"Sergeant\",\"Lieutenant\",\"Captain\",\"Major\",\"Colonel\",\"General\",\"Marshal\"]; \n",
    "\n",
    "CryptoKeyBits = 192\n",
    "\n",
    "DataBits = 16\n",
    "PieceVals = PiecesDict(PieceNames, DataBits)\n",
    "\n",
    "ValNames = { v: n for (n,v) in PieceVals.items() }  # inverted PieceVals dict to look up piece from value\n",
    "\n",
    "U = list(PieceVals.values())\n",
    "#random.shuffle(U)\n",
    "\n",
    "# It doesn't matter whether or not U is shuffled"
   ]
  },
  {
   "cell_type": "code",
   "execution_count": null,
   "id": "b50e6bd8-6d88-4651-af4c-79d2f8878587",
   "metadata": {},
   "outputs": [],
   "source": []
  },
  {
   "cell_type": "code",
   "execution_count": 6,
   "id": "7e87a087-f43e-4bda-bfd9-c11066463975",
   "metadata": {},
   "outputs": [
    {
     "name": "stdout",
     "output_type": "stream",
     "text": [
      "Alice: Marshal, Bob: Major\n"
     ]
    }
   ],
   "source": [
    "# section 3.1.1 The Protocol\n",
    "\n",
    "# Alice's val is x,  Bob's val  is y\n",
    "A_x = U[random.randint(0,len(U)-1)]\n",
    "\n",
    "B_y = U[random.randint(0,len(U)-1)]\n",
    "\n",
    "# The \"A_\" is to denote that Alice knows this. If she were to send it to Bob, we would create \n",
    "# B_x (equal to A_x ) just to denote that Bob knows it. Lame? Sure.\n",
    "\n",
    "print( \"Alice: {}, Bob: {}\".format(ValNames[A_x], ValNames[B_y]))"
   ]
  },
  {
   "cell_type": "code",
   "execution_count": 7,
   "id": "e72e4ce0-3d85-42d9-8507-ca9a2c1087e6",
   "metadata": {},
   "outputs": [],
   "source": [
    "# step 1  - Alice generates Paillier keys\n",
    "(A_pubkey, A_privkey) = GeneratePaillierKeys(CryptoKeyBits)\n",
    "\n",
    "# send pubkey to Bob\n",
    "B_pubkey = A_pubkey"
   ]
  },
  {
   "cell_type": "code",
   "execution_count": 8,
   "id": "a90b675a-ce82-4d15-8f1f-0d2edefd615d",
   "metadata": {},
   "outputs": [],
   "source": [
    "# step 2  Alice vectorizes x\n",
    "\n",
    "# There is no guidance for selecting these values, other than that they must all be different.\n",
    "# Question: since they are going to be encrypted, shouldn't they be random and \"look like\" ciphers?\n",
    "A_alpha = 1\n",
    "A_gamma = 2\n",
    "A_beta = 3\n",
    "\n",
    "A_X = Vectorize(U, (A_alpha,A_gamma,A_beta), A_x)\n",
    "\n",
    "# A_X is really just a list of how x compares to each member of U  \n",
    "# ie. [\"greater\", \"greater, \"less\", \"equal\", \"less\"... ]"
   ]
  },
  {
   "cell_type": "code",
   "execution_count": null,
   "id": "d5e0ff68-8837-4f10-8f9f-6b8c7aa22bb6",
   "metadata": {},
   "outputs": [],
   "source": []
  },
  {
   "cell_type": "code",
   "execution_count": 9,
   "id": "976bd9ec-13ba-40ee-9a60-0198c773efbe",
   "metadata": {},
   "outputs": [],
   "source": [
    "# step 3 - Alice encrypts vector\n",
    "\n",
    "R = [int(getRandomBitsOfLength(CryptoKeyBits)) for i in range(len(A_X)) ]\n",
    "\n",
    "A_E = [ int(A_pubkey.encrypt(x,r)) for (x,r) in zip (A_X,R) ]\n",
    "\n",
    "# A_E is just A_X encrypted so no one but Alice can know how U values compare to x"
   ]
  },
  {
   "cell_type": "code",
   "execution_count": null,
   "id": "4e838362-9219-436b-9210-9c90fe55dab3",
   "metadata": {},
   "outputs": [],
   "source": []
  },
  {
   "cell_type": "code",
   "execution_count": 10,
   "id": "80d96ec8-f4d5-4bf5-a4b9-029703f2156d",
   "metadata": {},
   "outputs": [],
   "source": [
    "# step 4  Alice sends E to bob...\n",
    "B_E = A_E\n"
   ]
  },
  {
   "cell_type": "code",
   "execution_count": 11,
   "id": "f47a7cfe-bd8f-40b7-9df6-065bd61cf35d",
   "metadata": {},
   "outputs": [],
   "source": [
    "# step 5 - Bob finds the encrypted version of y in Alice's vector\n",
    "\n",
    "rb = int(getRandomBitsOfLength(CryptoKeyBits))\n",
    "\n",
    "# in the paper it says: \"He chooses 𝐸(𝑚i,ri)from 𝐸(𝑋) such that 𝑖 = 𝑦 ...\"\n",
    "# which makes no sense: i can never equal y since one is a data value and the \n",
    "# other is a small ( < s ) index.  \n",
    "\n",
    "# I assume they meant \"He chooses 𝐸(𝑚i,ri) from 𝐸(𝑋) such that Ui = y...\"  \n",
    "# and it seems to work\n",
    "\n",
    "# If alice and Bob have U in the same order then Bob probably already knows the index. \n",
    "i_for_y = U.index(B_y) # or he can just search for y in U\n",
    "\n",
    "Ey = B_E[i_for_y]\n",
    "\n",
    "Ezero = int(B_pubkey.encrypt(0, rb)) # this is a Paillier identity mask. \n",
    "\n",
    "# Pailler encryptiom is partially homomorphic, in that\n",
    "# D( E(y) * E(x) ) = D( E(y + x) )\n",
    "# so:\n",
    "# D( E(y) * E(0) ) = D( E(y+0) ) = D( E(y))\n",
    "# But because of the random r's used in encryption, E(y) is not euqal to E(y+0)\n",
    "# They just decrypt to the same thing.\n",
    "\n",
    "B_Eu = Ey * Ezero\n"
   ]
  },
  {
   "cell_type": "code",
   "execution_count": 12,
   "id": "43f5fc8a-371a-4f43-8ed3-328ec5dd1bfd",
   "metadata": {},
   "outputs": [],
   "source": [
    "#B_Eu"
   ]
  },
  {
   "cell_type": "code",
   "execution_count": 13,
   "id": "421279dd-5db9-4482-9b02-b845a3112742",
   "metadata": {},
   "outputs": [],
   "source": [
    "# Step 6  Bob sends his encrypted (and then masked so Alice can't recognize where in her\n",
    "# vector it came from) back to Alice\n",
    "A_Eu = B_Eu"
   ]
  },
  {
   "cell_type": "code",
   "execution_count": 14,
   "id": "d86c7b0b-9725-42e4-a591-822845ffece1",
   "metadata": {},
   "outputs": [
    {
     "data": {
      "text/plain": [
       "'Alice greater'"
      ]
     },
     "execution_count": 14,
     "metadata": {},
     "output_type": "execute_result"
    }
   ],
   "source": [
    "# Step 7 - Since Eu was masked by an identity cipher Alice can still decrypt it with her privkey.\n",
    "\n",
    "u = A_privkey.decrypt(A_Eu)\n",
    "\n",
    "result = \"Alice greater\" if u == A_alpha else \"Bob greater\" if u == A_beta else \"Same\"\n",
    "\n",
    "# So the idea here is that Bob has been able to select the Alice-encrypted version of \n",
    "# her \"x compared to every possible y\" list, and then without knowing what it IS, re-mask it \n",
    "# into a cipher that still decrypts to the same thing, and send it back to Alice without her\n",
    "# being able to know WHICH of her comparisons he selected.\n",
    "\n",
    "result"
   ]
  },
  {
   "cell_type": "code",
   "execution_count": null,
   "id": "d1cb0403-ab67-464f-8282-96c432233882",
   "metadata": {},
   "outputs": [],
   "source": []
  },
  {
   "cell_type": "code",
   "execution_count": null,
   "id": "2efcb21b-08b5-4c33-82a7-b9a1c7ae4215",
   "metadata": {},
   "outputs": [],
   "source": []
  }
 ],
 "metadata": {
  "kernelspec": {
   "display_name": "Python 3 (ipykernel)",
   "language": "python",
   "name": "python3"
  },
  "language_info": {
   "codemirror_mode": {
    "name": "ipython",
    "version": 3
   },
   "file_extension": ".py",
   "mimetype": "text/x-python",
   "name": "python",
   "nbconvert_exporter": "python",
   "pygments_lexer": "ipython3",
   "version": "3.10.7"
  }
 },
 "nbformat": 4,
 "nbformat_minor": 5
}
