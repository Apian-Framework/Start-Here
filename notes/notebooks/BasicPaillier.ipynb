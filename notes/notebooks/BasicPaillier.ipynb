{
 "cells": [
  {
   "cell_type": "markdown",
   "id": "d66fb8b4-bb84-4ba6-8f6a-6feb6c2ea971",
   "metadata": {
    "tags": []
   },
   "source": [
    "## Simple implementation of a Paillier cryptosystem\n",
    "\n",
    "See: https://en.wikipedia.org/wiki/Paillier_cryptosystem \n",
    "\n",
    "Code cribbed from (in no particular order):\n",
    "\n",
    "- https://github.com/data61/python-paillier [a]\n",
    "- https://github.com/cgshep/paillier-lib [b]\n",
    "- https://erev0s.com/blog/paillier-cryptosystem-python/ [c]\n",
    "\n"
   ]
  },
  {
   "cell_type": "code",
   "execution_count": 5,
   "id": "10c01bf3-8c07-430f-92ac-39bd0ace450c",
   "metadata": {},
   "outputs": [
    {
     "name": "stdout",
     "output_type": "stream",
     "text": [
      "Requirement already satisfied: pycryptodome in c:\\apps\\python310\\lib\\site-packages (3.15.0)\n"
     ]
    }
   ],
   "source": [
    "!pip install pycryptodome"
   ]
  },
  {
   "cell_type": "code",
   "execution_count": 6,
   "id": "dfbfd03d-b7d1-4b4e-b1b4-6c7c0feaba29",
   "metadata": {},
   "outputs": [],
   "source": [
    "# Note: \"Crypto\" here is pycryptodome\n",
    "from Crypto import Random\n",
    "from Crypto.Random import random\n",
    "from Crypto.Util import number\n",
    "import math"
   ]
  },
  {
   "cell_type": "code",
   "execution_count": 7,
   "id": "c8441f52-a6f3-4001-a613-a4acd4c94a21",
   "metadata": {},
   "outputs": [],
   "source": [
    "# math.lcm() requires python 3.9\n",
    "try:\n",
    "  l =  math.lcm(10, 2)\n",
    "except AttributeError:\n",
    "  def lcm(x, y):\n",
    "     return (x*y)//number.GCD(x,y)\n",
    "  math.lcm = lcm"
   ]
  },
  {
   "cell_type": "markdown",
   "id": "5a9ac471-1c49-4301-9e95-c81c4a4ef6e8",
   "metadata": {},
   "source": [
    "## Utils"
   ]
  },
  {
   "cell_type": "code",
   "execution_count": 8,
   "id": "7c3f10df-aa18-449a-aba0-a0e3dfad7c24",
   "metadata": {},
   "outputs": [],
   "source": [
    "def getRandomBitsOfLength(bits):\n",
    "    '''\n",
    "    Get random val EXACTLY bits long\n",
    "    This means that the high bit must be set\n",
    "    '''\n",
    "    actual_bits = 0\n",
    "    while actual_bits != bits:\n",
    "        r = random.getrandbits(bits)\n",
    "        #print(r, type(r))       \n",
    "        actual_bits = number.size(r) # higest bit IS set for size_in_bits()\n",
    "        # print(\"actual: {}, desired: {}\".format(actual_bits, bits))         \n",
    "    return r\n"
   ]
  },
  {
   "cell_type": "markdown",
   "id": "60ceee43-1f07-4049-9929-adf0e4b89d7b",
   "metadata": {},
   "source": [
    "## Pailler Code"
   ]
  },
  {
   "cell_type": "code",
   "execution_count": 9,
   "id": "0411314c-688a-4a8b-9c7f-8fa69162ebbd",
   "metadata": {},
   "outputs": [],
   "source": [
    "class PaillierPublicKey(object):\n",
    "    \"\"\"\n",
    "    In all the papers, (g,n) is the public key, but since we define  g === n + 1 it's really just n \n",
    "    \"\"\"\n",
    "    def __init__(self, n):\n",
    "        self.n = n\n",
    "        self.n2 = n**2\n",
    "        self.g = n + 1  # From Damgard,Jurik 2000.  Both [a] and [c] use this value. [b] does NOT\n",
    "        \n",
    "    def __repr__(self):\n",
    "        return \"<PaillierPublicKey(n, g): ({}, {})>\".format(self.n,self.g)        \n",
    "        \n",
    "    def encrypt(self, m, r=None):\n",
    "        '''\n",
    "        source [a], [c]\n",
    "        '''\n",
    "        \n",
    "        if r == None:\n",
    "            r = self.n\n",
    "            while r >= self.n-1:\n",
    "                r = random.getrandbits(number.size(self.n))           \n",
    "        \n",
    "         # Comment from [a]:\n",
    "        #  \"we chose g = n + 1, so that we can exploit the fact that \n",
    "        # (n+1)^plaintext = n*plaintext + 1 mod n^2\"\n",
    "        # I'm certain this optimization is from  Damgard-Jurik, but I don;t feel like reading \n",
    "        # the paper again just to find it.\n",
    "        x = pow(r,self.n,self.n2)\n",
    "        \n",
    "        cipher = pow(self.g,m,self.n2) * x % self.n2\n",
    "        return cipher\n",
    "        \n",
    "    def encrypt_2(self, msg):\n",
    "        '''\n",
    "        from [b]\n",
    "        '''\n",
    "        r = self.n\n",
    "        while r >= self.n-1:\n",
    "            r = random.getrandbits(number.size(self.n))\n",
    "\n",
    "        print(\"r = {}, n = {}\".format(r,self.n))            \n",
    "            \n",
    "        a = pow(self.g, msg, self.n2)\n",
    "        b = pow(r, self.n, self.n2)\n",
    "        c = (a * b) % self.n2            \n",
    "            \n",
    "        return c   \n",
    "        "
   ]
  },
  {
   "cell_type": "code",
   "execution_count": 10,
   "id": "6507810b-ebba-435b-9332-8fb9849fd299",
   "metadata": {},
   "outputs": [],
   "source": [
    "\n",
    "class PaillierPrivateKey(object):\n",
    "    \"\"\"\n",
    "    Source [a] uses the Chinese remainder theorem in decrypt, the other 2 do not.\n",
    "    I think that is because [a] and [b] always set g = n+1 per Damgard and Jurik 2000\n",
    "    \"\"\"\n",
    "    def __init__(self, p, q, pubkey):\n",
    "        self.n = pubkey.n\n",
    "        self.n2 = pubkey.n2\n",
    "        self.l = math.lcm(p-1,q-1)         \n",
    "        self.u = number.inverse(self.l,self.n)           \n",
    "        \n",
    "    def __repr__(self):\n",
    "        hsh = hex(hash(self))[2:]\n",
    "        return \"<PaillierPrivateKey(l, u): ({}{})>\".format(self.l,self.u)         \n",
    "\n",
    "    def _lFunc(self,x):\n",
    "        return (x-1) // self.n\n",
    "    \n",
    "    def decrypt(self, cipher):    \n",
    "        '''\n",
    "        Source: [b]\n",
    "        '''\n",
    "        a = pow(cipher, self.l, self.n2)\n",
    "        return self._lFunc(a) * self.u % self.n       \n",
    "    \n",
    "    def decrypt_2(self, cipher):\n",
    "        '''\n",
    "        Source [c]\n",
    "        '''\n",
    "        x =  pow(cipher, self.l, self.n2) - 1\n",
    "        msg =  ((x // self.n) * self.u) % self.n\n",
    "        if msg >= self.n // 2:\n",
    "            msg = msg - self.n\n",
    "        return msg        \n",
    "    "
   ]
  },
  {
   "cell_type": "code",
   "execution_count": 11,
   "id": "cf6e07a1-cf18-4544-aed4-b7a2d1636d9d",
   "metadata": {},
   "outputs": [],
   "source": [
    "\n",
    "def GeneratePaillierKeys(bits):\n",
    "    '''\n",
    "    Generate random public `(n, g)` and private `lambda`\n",
    "    keys of bitlength `bits`\n",
    "    \n",
    "    returns (pubkey, privkey)\n",
    "\n",
    "    From Damgard,Jurik: \"A Generalisation, a Simplification and Some Applications of Paillier’s Probabilistic Public-Key System\", 2000\n",
    "    In the first section of Chapter 3:\n",
    "        \"In particular one may choose g = n + 1 always without degrading security. We do this in the following for simplicity, \n",
    "        so that a public key consists only of the modulus n.\"\n",
    "    '''\n",
    "    actual_bits = 0\n",
    "    while actual_bits != bits:        \n",
    "        p = number.getPrime( bits // 2);\n",
    "        q = number.getPrime( bits // 2);\n",
    "        n = (p * q)\n",
    "        actual_bits =  number.size(n)\n",
    "         # print(\"n actual: {}, desired: {}\".format(actual_bits, bits))        \n",
    "\n",
    "   # print(\"n = {}\".format(n))\n",
    "    \n",
    "    pubkey = PaillierPublicKey(n)\n",
    "    privkey = PaillierPrivateKey(p, q, pubkey)\n",
    "    return (pubkey, privkey)\n",
    "    "
   ]
  },
  {
   "cell_type": "code",
   "execution_count": null,
   "id": "26ec7da9-5660-48cd-bfd9-2aea39cef95c",
   "metadata": {
    "tags": []
   },
   "outputs": [],
   "source": [
    "\n"
   ]
  },
  {
   "cell_type": "code",
   "execution_count": 12,
   "id": "2353cf33-1a24-4021-9896-98b14ee21369",
   "metadata": {},
   "outputs": [],
   "source": [
    "def bin_str(x):\n",
    "    y = int(x) # in case it's an mpz or Integer...\n",
    "    bits = ''\n",
    "    while y:\n",
    "        bits += str(y&1)\n",
    "        y >>= 1\n",
    "    return bits[::-1]"
   ]
  },
  {
   "cell_type": "code",
   "execution_count": null,
   "id": "4ff98421-855e-46e0-8e19-e7c873be9701",
   "metadata": {},
   "outputs": [],
   "source": []
  },
  {
   "cell_type": "code",
   "execution_count": 13,
   "id": "deabd59d-ea08-4877-a2cf-9a9204ce7034",
   "metadata": {},
   "outputs": [],
   "source": [
    "def simple_paillier_test(msg, key_bits=256):\n",
    "    print( f\"Msg: {msg}\" )\n",
    "    (pubk, privk) = GeneratePaillierKeys(key_bits)\n",
    "    print(pubk, privk)\n",
    "    c = pubk.encrypt(msg)\n",
    "    print( f\"Cipher: {c}\")\n",
    "    d = privk.decrypt(c)\n",
    "    print( f\"Decrypted: {d}\")"
   ]
  },
  {
   "cell_type": "code",
   "execution_count": 14,
   "id": "ff276fcd-7d3b-4a0b-8a8d-66d27a286b42",
   "metadata": {},
   "outputs": [
    {
     "name": "stdout",
     "output_type": "stream",
     "text": [
      "BacisPaillier notebook loaded\n"
     ]
    }
   ],
   "source": [
    "print(\"BacisPaillier notebook loaded\")"
   ]
  },
  {
   "cell_type": "code",
   "execution_count": 15,
   "id": "31a48a8e-b998-4261-866e-d74742ba5c3d",
   "metadata": {},
   "outputs": [],
   "source": [
    "# simple_paillier_test(234321,192)"
   ]
  },
  {
   "cell_type": "code",
   "execution_count": null,
   "id": "d83f09d4-4dee-4471-9d8d-b9583a1b39ec",
   "metadata": {},
   "outputs": [],
   "source": []
  }
 ],
 "metadata": {
  "kernelspec": {
   "display_name": "Python 3 (ipykernel)",
   "language": "python",
   "name": "python3"
  },
  "language_info": {
   "codemirror_mode": {
    "name": "ipython",
    "version": 3
   },
   "file_extension": ".py",
   "mimetype": "text/x-python",
   "name": "python",
   "nbconvert_exporter": "python",
   "pygments_lexer": "ipython3",
   "version": "3.10.7"
  }
 },
 "nbformat": 4,
 "nbformat_minor": 5
}
